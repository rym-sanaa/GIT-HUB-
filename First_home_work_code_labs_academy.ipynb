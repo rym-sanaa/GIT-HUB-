{
  "nbformat": 4,
  "nbformat_minor": 0,
  "metadata": {
    "colab": {
      "name": "First home work- code labs academy",
      "provenance": [],
      "authorship_tag": "ABX9TyMAKM5fO05MtTsJTuiwwtQl",
      "include_colab_link": true
    },
    "kernelspec": {
      "name": "python3",
      "display_name": "Python 3"
    },
    "language_info": {
      "name": "python"
    }
  },
  "cells": [
    {
      "cell_type": "markdown",
      "metadata": {
        "id": "view-in-github",
        "colab_type": "text"
      },
      "source": [
        "<a href=\"https://colab.research.google.com/github/rym-sanaa/GIT-HUB-/blob/main/First_home_work_code_labs_academy.ipynb\" target=\"_parent\"><img src=\"https://colab.research.google.com/assets/colab-badge.svg\" alt=\"Open In Colab\"/></a>"
      ]
    },
    {
      "cell_type": "markdown",
      "metadata": {
        "id": "Bw2ufPie-VBT"
      },
      "source": [
        "**1st question:** Let's get the even number between 1 and 299: \n",
        "\n",
        "\n",
        "\n",
        "\n",
        "\n",
        "\n"
      ]
    },
    {
      "cell_type": "code",
      "metadata": {
        "colab": {
          "base_uri": "https://localhost:8080/"
        },
        "id": "RN62MKyy9V23",
        "outputId": "c9fd457e-96be-49ff-af41-c200e7fd8ce2"
      },
      "source": [
        "x=[]\n",
        "\n",
        "for i in range(1,299):\n",
        "  if i%2==0:\n",
        "    x.append(i)\n",
        "print(\"The list of my even numbers is:\",x)"
      ],
      "execution_count": 4,
      "outputs": [
        {
          "output_type": "stream",
          "name": "stdout",
          "text": [
            "The list of my even numbers is: [2, 4, 6, 8, 10, 12, 14, 16, 18, 20, 22, 24, 26, 28, 30, 32, 34, 36, 38, 40, 42, 44, 46, 48, 50, 52, 54, 56, 58, 60, 62, 64, 66, 68, 70, 72, 74, 76, 78, 80, 82, 84, 86, 88, 90, 92, 94, 96, 98, 100, 102, 104, 106, 108, 110, 112, 114, 116, 118, 120, 122, 124, 126, 128, 130, 132, 134, 136, 138, 140, 142, 144, 146, 148, 150, 152, 154, 156, 158, 160, 162, 164, 166, 168, 170, 172, 174, 176, 178, 180, 182, 184, 186, 188, 190, 192, 194, 196, 198, 200, 202, 204, 206, 208, 210, 212, 214, 216, 218, 220, 222, 224, 226, 228, 230, 232, 234, 236, 238, 240, 242, 244, 246, 248, 250, 252, 254, 256, 258, 260, 262, 264, 266, 268, 270, 272, 274, 276, 278, 280, 282, 284, 286, 288, 290, 292, 294, 296, 298]\n"
          ]
        }
      ]
    },
    {
      "cell_type": "markdown",
      "metadata": {
        "id": "7S6kZ3mx-vjB"
      },
      "source": [
        "**2nd question:** Let's get the length of our previous list :\n"
      ]
    },
    {
      "cell_type": "code",
      "metadata": {
        "id": "Vypql97g50L4",
        "colab": {
          "base_uri": "https://localhost:8080/"
        },
        "outputId": "0d1137da-981f-4dcc-8370-51e69b853265"
      },
      "source": [
        "length=0\n",
        "squared =[]\n",
        "for even in x:\n",
        "  length=length+1\n",
        "  squared.append(even**2)\n",
        "print(\"The length of my list is:\",length)\n",
        "print(\"The list of the squares of my even numbers is:\" , squared)\n"
      ],
      "execution_count": 5,
      "outputs": [
        {
          "output_type": "stream",
          "name": "stdout",
          "text": [
            "The length of my list is: 149\n",
            "The list of the squares of my even numbers is: [4, 16, 36, 64, 100, 144, 196, 256, 324, 400, 484, 576, 676, 784, 900, 1024, 1156, 1296, 1444, 1600, 1764, 1936, 2116, 2304, 2500, 2704, 2916, 3136, 3364, 3600, 3844, 4096, 4356, 4624, 4900, 5184, 5476, 5776, 6084, 6400, 6724, 7056, 7396, 7744, 8100, 8464, 8836, 9216, 9604, 10000, 10404, 10816, 11236, 11664, 12100, 12544, 12996, 13456, 13924, 14400, 14884, 15376, 15876, 16384, 16900, 17424, 17956, 18496, 19044, 19600, 20164, 20736, 21316, 21904, 22500, 23104, 23716, 24336, 24964, 25600, 26244, 26896, 27556, 28224, 28900, 29584, 30276, 30976, 31684, 32400, 33124, 33856, 34596, 35344, 36100, 36864, 37636, 38416, 39204, 40000, 40804, 41616, 42436, 43264, 44100, 44944, 45796, 46656, 47524, 48400, 49284, 50176, 51076, 51984, 52900, 53824, 54756, 55696, 56644, 57600, 58564, 59536, 60516, 61504, 62500, 63504, 64516, 65536, 66564, 67600, 68644, 69696, 70756, 71824, 72900, 73984, 75076, 76176, 77284, 78400, 79524, 80656, 81796, 82944, 84100, 85264, 86436, 87616, 88804]\n"
          ]
        }
      ]
    },
    {
      "cell_type": "markdown",
      "metadata": {
        "id": "PQGp70J6-8W7"
      },
      "source": [
        "**3rd question:** Let's check if 57 exists in our list. "
      ]
    },
    {
      "cell_type": "code",
      "metadata": {
        "id": "uxs1N4x1867A",
        "colab": {
          "base_uri": "https://localhost:8080/"
        },
        "outputId": "bbbf8a52-b0b7-4030-c2a3-7722d1963a5c"
      },
      "source": [
        "#in order to know whether a number exists in a list or not, we can just use the following line which returns False if the number isn't there and vice versa.\n",
        "57 in x \n"
      ],
      "execution_count": 6,
      "outputs": [
        {
          "output_type": "execute_result",
          "data": {
            "text/plain": [
              "False"
            ]
          },
          "metadata": {},
          "execution_count": 6
        }
      ]
    }
  ]
}