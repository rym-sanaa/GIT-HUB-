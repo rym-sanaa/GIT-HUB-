{
  "nbformat": 4,
  "nbformat_minor": 0,
  "metadata": {
    "colab": {
      "name": "Preparatory project unit CLA",
      "provenance": [],
      "authorship_tag": "ABX9TyNYlRgaaVPuq4UaNu7Q5olX",
      "include_colab_link": true
    },
    "kernelspec": {
      "name": "python3",
      "display_name": "Python 3"
    },
    "language_info": {
      "name": "python"
    }
  },
  "cells": [
    {
      "cell_type": "markdown",
      "metadata": {
        "id": "view-in-github",
        "colab_type": "text"
      },
      "source": [
        "<a href=\"https://colab.research.google.com/github/rym-sanaa/projects-/blob/main/Preparatory_project_unit_CLA.ipynb\" target=\"_parent\"><img src=\"https://colab.research.google.com/assets/colab-badge.svg\" alt=\"Open In Colab\"/></a>"
      ]
    },
    {
      "cell_type": "markdown",
      "metadata": {
        "id": "AsIb-hUVrkLi"
      },
      "source": [
        "# **1st** **lets** **start** **by** **installing** **pysqlite** \n"
      ]
    },
    {
      "cell_type": "code",
      "metadata": {
        "colab": {
          "base_uri": "https://localhost:8080/"
        },
        "id": "OWsPqBbyqthK",
        "outputId": "b53cff3f-5eee-453f-9dce-63110ed19d09"
      },
      "source": [
        "pip install pysqlite3 \n"
      ],
      "execution_count": null,
      "outputs": [
        {
          "output_type": "stream",
          "name": "stdout",
          "text": [
            "Requirement already satisfied: pysqlite3 in /usr/local/lib/python3.7/dist-packages (0.4.6)\n"
          ]
        }
      ]
    },
    {
      "cell_type": "markdown",
      "metadata": {
        "id": "yRWi_WrBr8av"
      },
      "source": [
        "Importing the needed packages\n"
      ]
    },
    {
      "cell_type": "code",
      "metadata": {
        "id": "gmikPL4-r0bq"
      },
      "source": [
        "import sqlite3\n",
        "import numpy as np\n",
        "from matplotlib import pyplot\n",
        "from scipy.optimize import curve_fit\n",
        "\n"
      ],
      "execution_count": null,
      "outputs": []
    },
    {
      "cell_type": "code",
      "metadata": {
        "id": "crETHXEEr4rw"
      },
      "source": [
        "#create a connection with the database \n",
        "conn = sqlite3.connect('/content/longley.db')\n"
      ],
      "execution_count": null,
      "outputs": []
    },
    {
      "cell_type": "code",
      "metadata": {
        "id": "633gbOhKsD9S"
      },
      "source": [
        "#create a curser so I can manipulate the dat in the db\n",
        "curser= conn.cursor()"
      ],
      "execution_count": null,
      "outputs": []
    },
    {
      "cell_type": "code",
      "metadata": {
        "id": "TjpwECyeb-a8"
      },
      "source": [
        "#excute the sql query that will allow me to read all the columns/rows in the longley dataset\n",
        "curser.execute('SELECT * from longley')"
      ],
      "execution_count": null,
      "outputs": []
    },
    {
      "cell_type": "code",
      "metadata": {
        "id": "BQ61mFmhcMAe"
      },
      "source": [
        "results = curser.fetchall()"
      ],
      "execution_count": null,
      "outputs": []
    },
    {
      "cell_type": "code",
      "metadata": {
        "colab": {
          "base_uri": "https://localhost:8080/"
        },
        "id": "3nU4BipdcTFG",
        "outputId": "172623de-78f5-4add-d719-39a4b393230f"
      },
      "source": [
        "print(results)"
      ],
      "execution_count": null,
      "outputs": [
        {
          "output_type": "stream",
          "name": "stdout",
          "text": [
            "[('83', '234.289', '235.6', '159', '107.608', '1947', '60.323'), ('88.5', '259.426', '232.5', '145.6', '108.632', '1948', '61.122'), ('88.2', '258.054', '368.2', '161.6', '109.773', '1949', '60.171'), ('89.5', '284.599', '335.1', '165', '110.929', '1950', '61.187'), ('96.2', '328.975', '209.9', '309.9', '112.075', '1951', '63.221'), ('98.1', '346.999', '193.2', '359.4', '113.27', '1952', '63.639'), ('99', '365.385', '187', '354.7', '115.094', '1953', '64.989'), ('100', '363.112', '357.8', '335', '116.219', '1954', '63.761'), ('101.2', '397.469', '290.4', '304.8', '117.388', '1955', '66.019'), ('104.6', '419.18', '282.2', '285.7', '118.734', '1956', '67.857'), ('108.4', '442.769', '293.6', '279.8', '120.445', '1957', '68.169'), ('110.8', '444.546', '468.1', '263.7', '121.95', '1958', '66.513'), ('112.6', '482.704', '381.3', '255.2', '123.366', '1959', '68.655'), ('114.2', '502.601', '393.1', '251.4', '125.368', '1960', '69.564'), ('115.7', '518.173', '480.6', '257.2', '127.852', '1961', '69.331'), ('116.9', '554.894', '400.7', '282.7', '130.081', '1962', '70.551')]\n"
          ]
        }
      ]
    },
    {
      "cell_type": "code",
      "metadata": {
        "id": "ZxYU8MF0c3Pl"
      },
      "source": [
        "def convert_to_floats(rows):\n",
        "    \"\"\"convert a list of string tuples to a  ndarray of floats\"\"\"\n",
        "\n",
        "    # create a a result list ( later to be converted to np array matrix)\n",
        "    result = []\n",
        "    # loop through the list and convert row by row\n",
        "    for x in rows:\n",
        "      value = np.asarray(x)\n",
        "      value = value.astype(np.float)\n",
        "      result.append(value)  \n",
        "\n",
        "    return np.array(result)"
      ],
      "execution_count": null,
      "outputs": []
    },
    {
      "cell_type": "code",
      "metadata": {
        "id": "EkIufZ-CdIPT"
      },
      "source": [
        "data= convert_to_floats(results)"
      ],
      "execution_count": null,
      "outputs": []
    },
    {
      "cell_type": "code",
      "metadata": {
        "colab": {
          "base_uri": "https://localhost:8080/"
        },
        "id": "Qp8GzB7bdSs4",
        "outputId": "306a9ac3-db82-43df-a6d9-a817f9d1132c"
      },
      "source": [
        "data"
      ],
      "execution_count": null,
      "outputs": [
        {
          "output_type": "execute_result",
          "data": {
            "text/plain": [
              "array([[  83.   ,  234.289,  235.6  ,  159.   ,  107.608, 1947.   ,\n",
              "          60.323],\n",
              "       [  88.5  ,  259.426,  232.5  ,  145.6  ,  108.632, 1948.   ,\n",
              "          61.122],\n",
              "       [  88.2  ,  258.054,  368.2  ,  161.6  ,  109.773, 1949.   ,\n",
              "          60.171],\n",
              "       [  89.5  ,  284.599,  335.1  ,  165.   ,  110.929, 1950.   ,\n",
              "          61.187],\n",
              "       [  96.2  ,  328.975,  209.9  ,  309.9  ,  112.075, 1951.   ,\n",
              "          63.221],\n",
              "       [  98.1  ,  346.999,  193.2  ,  359.4  ,  113.27 , 1952.   ,\n",
              "          63.639],\n",
              "       [  99.   ,  365.385,  187.   ,  354.7  ,  115.094, 1953.   ,\n",
              "          64.989],\n",
              "       [ 100.   ,  363.112,  357.8  ,  335.   ,  116.219, 1954.   ,\n",
              "          63.761],\n",
              "       [ 101.2  ,  397.469,  290.4  ,  304.8  ,  117.388, 1955.   ,\n",
              "          66.019],\n",
              "       [ 104.6  ,  419.18 ,  282.2  ,  285.7  ,  118.734, 1956.   ,\n",
              "          67.857],\n",
              "       [ 108.4  ,  442.769,  293.6  ,  279.8  ,  120.445, 1957.   ,\n",
              "          68.169],\n",
              "       [ 110.8  ,  444.546,  468.1  ,  263.7  ,  121.95 , 1958.   ,\n",
              "          66.513],\n",
              "       [ 112.6  ,  482.704,  381.3  ,  255.2  ,  123.366, 1959.   ,\n",
              "          68.655],\n",
              "       [ 114.2  ,  502.601,  393.1  ,  251.4  ,  125.368, 1960.   ,\n",
              "          69.564],\n",
              "       [ 115.7  ,  518.173,  480.6  ,  257.2  ,  127.852, 1961.   ,\n",
              "          69.331],\n",
              "       [ 116.9  ,  554.894,  400.7  ,  282.7  ,  130.081, 1962.   ,\n",
              "          70.551]])"
            ]
          },
          "metadata": {},
          "execution_count": 138
        }
      ]
    },
    {
      "cell_type": "code",
      "metadata": {
        "colab": {
          "base_uri": "https://localhost:8080/"
        },
        "id": "XESy3YlwdVBk",
        "outputId": "9e3eb0b7-866a-40df-af48-d8b4b8c1ac93"
      },
      "source": [
        "data.shape"
      ],
      "execution_count": null,
      "outputs": [
        {
          "output_type": "execute_result",
          "data": {
            "text/plain": [
              "(16, 7)"
            ]
          },
          "metadata": {},
          "execution_count": 139
        }
      ]
    },
    {
      "cell_type": "code",
      "metadata": {
        "id": "YUHGbfs8dm8a"
      },
      "source": [
        "x, y =  data[:,5],data[:, 0]\n"
      ],
      "execution_count": null,
      "outputs": []
    },
    {
      "cell_type": "code",
      "metadata": {
        "colab": {
          "base_uri": "https://localhost:8080/",
          "height": 279
        },
        "id": "bJrOzla3doai",
        "outputId": "8ec75e02-db8a-4afe-93a8-63fee4ffab08"
      },
      "source": [
        "pyplot.scatter(x, y)\n",
        "pyplot.xlabel(\"Year\")\n",
        "pyplot.ylabel(\"GNP.deflactor\")\n",
        "pyplot.show()"
      ],
      "execution_count": null,
      "outputs": [
        {
          "output_type": "display_data",
          "data": {
            "image/png": "[encoded data removed]",
            "text/plain": [
              "<Figure size 432x288 with 1 Axes>"
            ]
          },
          "metadata": {
            "needs_background": "light"
          }
        }
      ]
    },
    {
      "cell_type": "code",
      "metadata": {
        "id": "CeGOrq94lqTs"
      },
      "source": [
        "from scipy.optimize import curve_fit\n",
        "\n",
        "\n",
        "def set_objective(x, b, a):\n",
        "    \"\"\" This is the function I want to fit to my data \"\"\"\n",
        "    return b + a*x\n",
        "\n",
        "def get_result( x, y):\n",
        "    \"\"\"Return optimal values for a and b for the equation y = a*x+b \"\"\"\n",
        "\n",
        "    # curve fit\n",
        "    estimations, _= curve_fit(set_objective, x, y)\n",
        "    # summarize the parameter values\n",
        "    a, b = estimations\n",
        "    print('y = %.5f * x + %.5f' % (a, b))\n",
        "    return a,b "
      ],
      "execution_count": null,
      "outputs": []
    },
    {
      "cell_type": "code",
      "metadata": {
        "colab": {
          "base_uri": "https://localhost:8080/"
        },
        "id": "zRG7d39OnalC",
        "outputId": "b01ce00d-7371-4f82-a93c-23dc720f6716"
      },
      "source": [
        "a,b=get_result(x,y)"
      ],
      "execution_count": null,
      "outputs": [
        {
          "output_type": "stream",
          "name": "stdout",
          "text": [
            "y = -4289.33284 * x + 2.24662\n"
          ]
        }
      ]
    },
    {
      "cell_type": "code",
      "metadata": {
        "colab": {
          "base_uri": "https://localhost:8080/",
          "height": 265
        },
        "id": "D7wWVHsPhLRm",
        "outputId": "e95fc63e-c7c4-4cbe-d354-ff51ffb805f3"
      },
      "source": [
        "# plotting the result \n",
        "from numpy import arange\n",
        "\n",
        "pyplot.scatter(x, y)\n",
        "# define a sequence of inputs between the smallest and largest known inputs\n",
        "x_line = arange(min(x), max(x), 1)\n",
        "# calculate the output for the range\n",
        "y_line = set_objective(x_line, a, b)\n",
        "# create a line plot for the mapping function\n",
        "pyplot.plot(x_line, y_line, '--', color='red')\n",
        "pyplot.show()"
      ],
      "execution_count": null,
      "outputs": [
        {
          "output_type": "display_data",
          "data": {
            "image/png": "[encoded data removed]",
            "text/plain": [
              "<Figure size 432x288 with 1 Axes>"
            ]
          },
          "metadata": {
            "needs_background": "light"
          }
        }
      ]
    }
  ]
}